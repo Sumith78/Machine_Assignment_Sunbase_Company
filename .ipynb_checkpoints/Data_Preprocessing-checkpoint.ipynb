{
 "cells": [
  {
   "cell_type": "code",
   "execution_count": 8,
   "id": "fba6bbda",
   "metadata": {},
   "outputs": [
    {
     "name": "stdout",
     "output_type": "stream",
     "text": [
      "   CustomerID        Name  Age  Gender     Location  \\\n",
      "0           1  Customer_1   63    Male  Los Angeles   \n",
      "1           2  Customer_2   62  Female     New York   \n",
      "2           3  Customer_3   24  Female  Los Angeles   \n",
      "3           4  Customer_4   36  Female        Miami   \n",
      "4           5  Customer_5   46  Female        Miami   \n",
      "\n",
      "   Subscription_Length_Months  Monthly_Bill  Total_Usage_GB  Churn  \n",
      "0                          17         73.36             236      0  \n",
      "1                           1         48.76             172      0  \n",
      "2                           5         85.47             460      0  \n",
      "3                           3         97.94             297      1  \n",
      "4                          19         58.14             266      0  \n",
      "<class 'pandas.core.frame.DataFrame'>\n",
      "RangeIndex: 100000 entries, 0 to 99999\n",
      "Data columns (total 9 columns):\n",
      " #   Column                      Non-Null Count   Dtype  \n",
      "---  ------                      --------------   -----  \n",
      " 0   CustomerID                  100000 non-null  int64  \n",
      " 1   Name                        100000 non-null  object \n",
      " 2   Age                         100000 non-null  int64  \n",
      " 3   Gender                      100000 non-null  object \n",
      " 4   Location                    100000 non-null  object \n",
      " 5   Subscription_Length_Months  100000 non-null  int64  \n",
      " 6   Monthly_Bill                100000 non-null  float64\n",
      " 7   Total_Usage_GB              100000 non-null  int64  \n",
      " 8   Churn                       100000 non-null  int64  \n",
      "dtypes: float64(1), int64(5), object(3)\n",
      "memory usage: 6.9+ MB\n",
      "None\n",
      "Index(['CustomerID', 'Name', 'Age', 'Gender', 'Location',\n",
      "       'Subscription_Length_Months', 'Monthly_Bill', 'Total_Usage_GB',\n",
      "       'Churn'],\n",
      "      dtype='object')\n"
     ]
    }
   ],
   "source": [
    "# Import necessary libraries\n",
    "import pandas as pd\n",
    "import numpy as np\n",
    "from sklearn.model_selection import train_test_split\n",
    "from sklearn.preprocessing import StandardScaler\n",
    "from sklearn.impute import SimpleImputer\n",
    "from sklearn.preprocessing import LabelEncoder\n",
    "\n",
    "# Load the dataset\n",
    "data = pd.read_csv('C:/Users/sumit/Videos/Machine_Assignment/customer_churn_large_dataset.csv')\n",
    "\n",
    "# Explore the data\n",
    "print(data.head())  # Display the first few rows of data\n",
    "print(data.info())  # Get information about the dataset, including missing values\n",
    "print(data.columns)\n",
    "\n",
    "# Handle missing data\n",
    "# Example: Fill missing numerical values with the mean\n",
    "numeric_columns = data.select_dtypes(include=['number'])\n",
    "imputer = SimpleImputer(strategy='mean')\n",
    "data[numeric_columns.columns] = imputer.fit_transform(data[numeric_columns.columns])\n",
    "\n",
    "# Handle outliers (you can choose a method based on your data)\n",
    "# Example: Remove outliers in a numerical column 'age'\n",
    "from scipy import stats\n",
    "z_scores = np.abs(stats.zscore(data['Age']))\n",
    "data = data[(z_scores < 3)]\n",
    "\n",
    "# Encode categorical variables (assuming 'gender' is a categorical variable)\n",
    "# Example: Encode 'gender' using Label Encoding\n",
    "le = LabelEncoder()\n",
    "data['Gender'] = le.fit_transform(data['Gender'])\n",
    "\n",
    "# Split data into training and testing sets\n",
    "X = data.drop('Churn', axis=1)  # Features\n",
    "y = data['Churn']  # Target variable\n",
    "X_train, X_test, y_train, y_test = train_test_split(X, y, test_size=0.2, random_state=42)\n",
    "\n",
    "# Now, you have preprocessed data ready for machine learning.\n"
   ]
  }
 ],
 "metadata": {
  "kernelspec": {
   "display_name": "Python 3 (ipykernel)",
   "language": "python",
   "name": "python3"
  },
  "language_info": {
   "codemirror_mode": {
    "name": "ipython",
    "version": 3
   },
   "file_extension": ".py",
   "mimetype": "text/x-python",
   "name": "python",
   "nbconvert_exporter": "python",
   "pygments_lexer": "ipython3",
   "version": "3.10.9"
  }
 },
 "nbformat": 4,
 "nbformat_minor": 5
}
